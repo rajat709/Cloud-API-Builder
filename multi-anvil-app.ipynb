{
  "cells": [
    {
      "cell_type": "code",
      "execution_count": null,
      "metadata": {},
      "outputs": [],
      "source": [
        "!pip install anvil-uplink\n",
        "import anvil.server"
      ]
    },
    {
      "cell_type": "code",
      "execution_count": null,
      "metadata": {
        "colab": {
          "base_uri": "https://localhost:8080/"
        },
        "id": "MNV9bUYsPqbk",
        "outputId": "a8b73879-1ae0-488c-f45c-70d6dd6dbb85"
      },
      "outputs": [
        {
          "name": "stdout",
          "output_type": "stream",
          "text": [
            "Connecting to wss://anvil.works/uplinkConnecting to wss://anvil.works/uplink\n",
            "\n"
          ]
        }
      ],
      "source": [
        "import multiprocessing\n",
        "\n",
        "def import_app2():\n",
        "    import app2\n",
        "    # Use app2 or perform any desired operations\n",
        "\n",
        "def import_app3():\n",
        "    import app3\n",
        "    # Use app3 or perform any desired operations\n",
        "\n",
        "if __name__ == '__main__':\n",
        "    # Create multiprocessing Pool\n",
        "    pool = multiprocessing.Pool()\n",
        "\n",
        "    # Submit import_app2 and import_app3 tasks to the Pool\n",
        "    pool.apply_async(import_app2)\n",
        "    pool.apply_async(import_app3)"
      ]
    },
    {
      "cell_type": "code",
      "execution_count": null,
      "metadata": {
        "id": "EKaDRw32QJly"
      },
      "outputs": [],
      "source": []
    }
  ],
  "metadata": {
    "colab": {
      "provenance": []
    },
    "kernelspec": {
      "display_name": "Python 3",
      "name": "python3"
    },
    "language_info": {
      "name": "python"
    }
  },
  "nbformat": 4,
  "nbformat_minor": 0
}
